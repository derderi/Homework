{
 "cells": [
  {
   "cell_type": "markdown",
   "metadata": {},
   "source": [
    "#ALPHABETICAL SUBSTRINGS\n",
    "Assume s is a string of lower case characters.  \n",
    "  \n",
    "Write a program that prints the longest substring of s in which the letters occur in alphabetical order. For example, if s = 'azcbobobegghakl', then your program should print  \n",
    "> Longest substring in alphabetical order is: beggh  \n",
    "\n",
    "In the case of ties, print the first substring. For example, if s = 'abcbcd', then your program should print  \n",
    "\n",
    "> Longest substring in alphabetical order is: abc\n",
    "\n",
    "For problems such as these, do not include raw_input statements or define the variable s in any way. Our automated testing will provide a value of s for you - so the code you submit in the following box should assume s is already defined. If you are confused by this instruction, please review L4 Problems 10 and 11 before you begin this problem set.  \n",
    "\n",
    "Note: This problem is fairly challenging. We encourage you to work smart. If you've spent more than a few hours on this problem, we suggest that you move on to a different part of the course. If you have time, come back to this problem after you've had a break and cleared your head."
   ]
  },
  {
   "cell_type": "markdown",
   "metadata": {},
   "source": [
    "## Version 1"
   ]
  },
  {
   "cell_type": "code",
   "execution_count": null,
   "metadata": {
    "collapsed": false
   },
   "outputs": [],
   "source": [
    "from itertools import count\n",
    "def find_substring(input_string):\n",
    "\tmaxsubstr = input_string[0:0]\n",
    "\tfor start in range(len(input_string)):\n",
    "\t\tfor end in count(start+len(maxsubstr)+1):\n",
    "\t\t\tsubstr = input_string[start:end]\n",
    "\t\t\tif len(substr)!=(end - start):\n",
    "\t\t\t\tbreak\n",
    "\t\t\tif sorted(substr) == list(substr):\n",
    "\t\t\t\tmaxsubstr = substr\n",
    "\treturn maxsubstr\n",
    "\n",
    "s = raw_input(\"Please input a String:\")\n",
    "log_substr = find_substring(s)\n",
    "print (\"Longest substring in alphabetical order is:\"+log_substr)"
   ]
  },
  {
   "cell_type": "markdown",
   "metadata": {},
   "source": [
    "##Verison 2"
   ]
  },
  {
   "cell_type": "code",
   "execution_count": 4,
   "metadata": {
    "collapsed": true
   },
   "outputs": [],
   "source": [
    "from compiler.ast import flatten"
   ]
  },
  {
   "cell_type": "code",
   "execution_count": 5,
   "metadata": {
    "collapsed": false
   },
   "outputs": [
    {
     "data": {
      "text/plain": [
       "\"\\nalpha_dict = {'a': 1, 'b': 2, 'c': 3, 'd': 4, 'e': 5,             'f': 6, 'g': 7, 'h': 8, 'i': 9, 'j': 10, 'k': 11,             'l': 12, 'm': 13, 'n': 14, 'o': 15, 'p': 16, 'q': 17,             'r': 18, 's': 19, 't': 20, 'u': 21, 'v': 22, 'w': 23,             'x': 24, 'y': 25, 'z': 26}\\nid_dict = {}\\nfor k, v in alpha_dict.iteritems():\\n    id_dict[v] = k\\nprint id_dict\\n\""
      ]
     },
     "execution_count": 5,
     "metadata": {},
     "output_type": "execute_result"
    }
   ],
   "source": [
    "def Ngram_s(s, length):\n",
    "    return map(lambda idx:s[idx:idx+length], xrange(0, len(s)-length+1) )\n",
    "    \n",
    "    \n",
    "    \n",
    "def alpha_2_id(s):\n",
    "    alpha_dict = {'a': 1, 'b': 2, 'c': 3, 'd': 4, 'e': 5,\\\n",
    "                 'f': 6, 'g': 7, 'h': 8, 'i': 9, 'j': 10, 'k': 11,\\\n",
    "                 'l': 12, 'm': 13, 'n': 14, 'o': 15, 'p': 16, 'q': 17,\\\n",
    "                 'r': 18, 's': 19, 't': 20, 'u': 21, 'v': 22, 'w': 23,\\\n",
    "                 'x': 24, 'y': 25, 'z': 26}\n",
    "    id_list = map(lambda char: alpha_dict[char], list(s))\n",
    "    return id_list    \n",
    "\n",
    "\n",
    "\n",
    "def is_alpha_order(id_list):\n",
    "    is_alpha_order = 0\n",
    "    sorted_id_list = sorted(id_list)\n",
    "    if sorted_id_list == id_list: is_alpha_order = 1\n",
    "    return (id_list, len(id_list), is_alpha_order)\n",
    "\n",
    "\n",
    "\n",
    "def id_list_2_alpha_list(id_list):\n",
    "    id_dict = {1: 'a', 2: 'b', 3: 'c', 4: 'd', 5: 'e', 6: 'f',\\\n",
    "               7: 'g', 8: 'h', 9: 'i', 10: 'j', 11: 'k', 12: 'l',\\\n",
    "               13: 'm', 14: 'n', 15: 'o', 16: 'p', 17: 'q', 18: 'r',\\\n",
    "               19: 's', 20: 't', 21: 'u', 22: 'v', 23: 'w', 24: 'x',\\\n",
    "               25: 'y', 26: 'z'}\n",
    "    alpha_list = map(lambda id: id_dict[id], id_list)\n",
    "    alpha_string = \"\".join(alpha_list)\n",
    "    return alpha_string \n",
    "\"\"\"\n",
    "alpha_dict = {'a': 1, 'b': 2, 'c': 3, 'd': 4, 'e': 5,\\\n",
    "             'f': 6, 'g': 7, 'h': 8, 'i': 9, 'j': 10, 'k': 11,\\\n",
    "             'l': 12, 'm': 13, 'n': 14, 'o': 15, 'p': 16, 'q': 17,\\\n",
    "             'r': 18, 's': 19, 't': 20, 'u': 21, 'v': 22, 'w': 23,\\\n",
    "             'x': 24, 'y': 25, 'z': 26}\n",
    "id_dict = {}\n",
    "for k, v in alpha_dict.iteritems():\n",
    "    id_dict[v] = k\n",
    "print id_dict\n",
    "\"\"\""
   ]
  },
  {
   "cell_type": "code",
   "execution_count": 7,
   "metadata": {
    "collapsed": false
   },
   "outputs": [
    {
     "name": "stdout",
     "output_type": "stream",
     "text": [
      "Longest substring in alphabetical order is: orz\n"
     ]
    }
   ],
   "source": [
    "s =  'onvorzvkcttm'\n",
    "all_possible_substring_list = map(lambda length: Ngram_s(s, length), xrange(1, len(s)+1))\n",
    "#print \"all_possible_substring_list:%s\" % all_possible_substring_list\n",
    "\n",
    "sorted_all_possible_substring_list = sorted(list(set(flatten(all_possible_substring_list))), reverse=True)\n",
    "#print \"sorted_all_possible_substring_list:%s\" % sorted_all_possible_substring_list\n",
    "\n",
    "id_2d_list = map(lambda substring: alpha_2_id(substring), sorted_all_possible_substring_list)\n",
    "#print \"id_2d_list:%s\" % id_2d_list\n",
    "\n",
    "id_list_and_length_and_is_alpha_order_trigram_tuple_list = map(\n",
    "    lambda id_list: is_alpha_order(id_list),\n",
    "    id_2d_list)\n",
    "#print \"id_list_and_length_and_is_alpha_order_trigram_tuple_list:%s\" % id_list_and_length_and_is_alpha_order_trigram_tuple_list\n",
    "\n",
    "alpha_order_tuple_list = filter(lambda trigram_tuple: trigram_tuple[2] == 1, id_list_and_length_and_is_alpha_order_trigram_tuple_list)\n",
    "#print \"len(alpha_order_tuple_list):%s\" % len(alpha_order_tuple_list)\n",
    "\n",
    "result_tuple_list = map(\n",
    "    lambda alpha_order_tuple:\n",
    "    (alpha_order_tuple[1], id_list_2_alpha_list(id_list = alpha_order_tuple[0])),\n",
    "    alpha_order_tuple_list)\n",
    "#print \"result_tuple_list:%s\" % result_tuple_list\n",
    "\n",
    "sorted_result_tuple_list = sorted(result_tuple_list, key=lambda result_tuple: result_tuple[0], reverse=True)\n",
    "#print \"Longest substring in alphabetical order is: %s\" % max_len_alpah_order_length\n",
    "\n",
    "max_len_alpha_string = sorted_result_tuple_list[0][1]\n",
    "print \"Longest substring in alphabetical order is: %s\" % max_len_alpha_string"
   ]
  }
 ],
 "metadata": {
  "kernelspec": {
   "display_name": "Python 2",
   "language": "python",
   "name": "python2"
  },
  "language_info": {
   "codemirror_mode": {
    "name": "ipython",
    "version": 2
   },
   "file_extension": ".py",
   "mimetype": "text/x-python",
   "name": "python",
   "nbconvert_exporter": "python",
   "pygments_lexer": "ipython2",
   "version": "2.7.6"
  }
 },
 "nbformat": 4,
 "nbformat_minor": 0
}
