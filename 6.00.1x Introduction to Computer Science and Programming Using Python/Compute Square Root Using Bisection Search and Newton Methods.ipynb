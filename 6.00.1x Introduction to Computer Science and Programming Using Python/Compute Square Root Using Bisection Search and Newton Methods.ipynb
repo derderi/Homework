{
 "cells": [
  {
   "cell_type": "markdown",
   "metadata": {},
   "source": [
    "# bisection search for square root"
   ]
  },
  {
   "cell_type": "code",
   "execution_count": 1,
   "metadata": {
    "collapsed": false
   },
   "outputs": [
    {
     "name": "stdout",
     "output_type": "stream",
     "text": [
      "low = 0.0 high = 12345 ans = 6172.5\n",
      "low = 0.0 high = 6172.5 ans = 3086.25\n",
      "low = 0.0 high = 3086.25 ans = 1543.125\n",
      "low = 0.0 high = 1543.125 ans = 771.5625\n",
      "low = 0.0 high = 771.5625 ans = 385.78125\n",
      "low = 0.0 high = 385.78125 ans = 192.890625\n",
      "low = 0.0 high = 192.890625 ans = 96.4453125\n",
      "low = 96.4453125 high = 192.890625 ans = 144.66796875\n",
      "low = 96.4453125 high = 144.66796875 ans = 120.556640625\n",
      "low = 96.4453125 high = 120.556640625 ans = 108.500976562\n",
      "low = 108.500976562 high = 120.556640625 ans = 114.528808594\n",
      "low = 108.500976562 high = 114.528808594 ans = 111.514892578\n",
      "low = 108.500976562 high = 111.514892578 ans = 110.00793457\n",
      "low = 110.00793457 high = 111.514892578 ans = 110.761413574\n",
      "low = 110.761413574 high = 111.514892578 ans = 111.138153076\n",
      "low = 110.761413574 high = 111.138153076 ans = 110.949783325\n",
      "low = 110.949783325 high = 111.138153076 ans = 111.043968201\n",
      "low = 111.043968201 high = 111.138153076 ans = 111.091060638\n",
      "low = 111.091060638 high = 111.138153076 ans = 111.114606857\n",
      "low = 111.091060638 high = 111.114606857 ans = 111.102833748\n",
      "low = 111.102833748 high = 111.114606857 ans = 111.108720303\n",
      "low = 111.102833748 high = 111.108720303 ans = 111.105777025\n",
      "low = 111.105777025 high = 111.108720303 ans = 111.107248664\n",
      "low = 111.107248664 high = 111.108720303 ans = 111.107984483\n",
      "low = 111.107984483 high = 111.108720303 ans = 111.108352393\n",
      "low = 111.107984483 high = 111.108352393 ans = 111.108168438\n",
      "numGuesses = 26\n",
      "111.108076461 is close to square root of 12345\n"
     ]
    }
   ],
   "source": [
    "x = 12345\n",
    "epsilon = 0.01\n",
    "numGuesses = 0\n",
    "low = 0.0\n",
    "high = x\n",
    "ans = (high + low)/2.0\n",
    "while abs(ans**2 - x) >= epsilon:\n",
    "    print('low = ' + str(low) + ' high = ' + str(high) + ' ans = ' + str(ans))\n",
    "    numGuesses += 1\n",
    "    if ans**2 < x:\n",
    "        low = ans\n",
    "    else:\n",
    "        high = ans\n",
    "    ans = (high + low)/2.0\n",
    "print('numGuesses = ' + str(numGuesses))\n",
    "print(str(ans) + ' is close to square root of ' + str(x))"
   ]
  },
  {
   "cell_type": "markdown",
   "metadata": {},
   "source": [
    "# Newton-Raphson for square root"
   ]
  },
  {
   "cell_type": "code",
   "execution_count": 2,
   "metadata": {
    "collapsed": false
   },
   "outputs": [
    {
     "name": "stdout",
     "output_type": "stream",
     "text": [
      "7.0\n",
      "5.21428571429\n",
      "4.90851272016\n",
      "4.89898874321\n",
      "Square root of 24.0 is about 4.89898874321\n"
     ]
    }
   ],
   "source": [
    "epsilon = 0.01\n",
    "y = 24.0\n",
    "guess = y/2.0\n",
    "\n",
    "while abs(guess*guess - y) >= epsilon:\n",
    "    guess = guess - ((guess**2 - y)/(2*guess))\n",
    "    print(guess)\n",
    "print('Square root of ' + str(y) + ' is about ' + str(guess))"
   ]
  },
  {
   "cell_type": "code",
   "execution_count": 3,
   "metadata": {
    "collapsed": true
   },
   "outputs": [],
   "source": [
    "def findRoot3(x, power, epsilon):\n",
    "    if x < 0 and power%2 == 0:\n",
    "        return None\n",
    "    # can't find even powered root of negative number\n",
    "    low = min(-1.0, x)\n",
    "    high = max(1.0, x)\n",
    "    ans = (high+low)/2.0\n",
    "    while abs(ans**power - x) > epsilon:\n",
    "        if ans**power < x:\n",
    "            low = ans\n",
    "        else:\n",
    "            high = ans\n",
    "        ans = (high+low)/2.0\n",
    "    return ans"
   ]
  },
  {
   "cell_type": "code",
   "execution_count": 4,
   "metadata": {
    "collapsed": false
   },
   "outputs": [
    {
     "name": "stdout",
     "output_type": "stream",
     "text": [
      "4.99992370605\n",
      "2.99998474121\n",
      "-2.99998474121\n",
      "0.5\n",
      "-0.5\n"
     ]
    }
   ],
   "source": [
    "print findRoot3(25.0, 2, .001)\n",
    "print findRoot3(27.0, 3, .001)\n",
    "print findRoot3(-27.0, 3, .001)\n",
    "\n",
    "print findRoot3(0.25, 2, .001)\n",
    "print findRoot3(-0.125, 3, .001)"
   ]
  }
 ],
 "metadata": {
  "kernelspec": {
   "display_name": "Python 2",
   "language": "python",
   "name": "python2"
  },
  "language_info": {
   "codemirror_mode": {
    "name": "ipython",
    "version": 2
   },
   "file_extension": ".py",
   "mimetype": "text/x-python",
   "name": "python",
   "nbconvert_exporter": "python",
   "pygments_lexer": "ipython2",
   "version": "2.7.6"
  }
 },
 "nbformat": 4,
 "nbformat_minor": 0
}
