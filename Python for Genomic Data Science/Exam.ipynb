{
 "cells": [
  {
   "cell_type": "markdown",
   "metadata": {},
   "source": [
    "#Exam dna2.fasta **Please Note: No Grace Period**\n",
    "Welcome to the final exam.  \n",
    "If you haven't yet read the instructions, you can do so here.  \n",
    "Please run the following data set in the program(s) that you have written:  \n",
    "dna2.fasta  \n",
    "If you created your program(s) correctly, you will be able to answer the questions below."
   ]
  },
  {
   "cell_type": "code",
   "execution_count": 1,
   "metadata": {
    "collapsed": false
   },
   "outputs": [
    {
     "name": "stdout",
     "output_type": "stream",
     "text": [
      "dna2_fasta_file_directory:./data/dna2.fasta\n",
      "read data from ./data/dna2.fasta successfully.\n"
     ]
    }
   ],
   "source": [
    "import os.path\n",
    "dna2_fasta_file_name = \"dna2.fasta\"\n",
    "dna2_fasta_file_path = \"./data\"\n",
    "dna2_fasta_file_directory = os.path.join(dna2_fasta_file_path, dna2_fasta_file_name)\n",
    "print \"dna2_fasta_file_directory:%s\" % dna2_fasta_file_directory\n",
    "\n",
    "# open file and attain data from file\n",
    "try: \n",
    "    f = open(dna2_fasta_file_directory, \"r\")\n",
    "except Exception as e: \n",
    "    print e\n",
    "    \n",
    "try: \n",
    "    data = f.read()\n",
    "    # read = > str, readlines = > list, readline = > str\n",
    "    print \"read data from %s successfully.\" % dna2_fasta_file_directory\n",
    "except Exception as e: \n",
    "    print e"
   ]
  },
  {
   "cell_type": "markdown",
   "metadata": {},
   "source": [
    "##Question 1\n",
    "How many records are in the multi-FASTA file?  \n",
    "* 18\n",
    "* 22\n",
    "* 20\n",
    "* 679"
   ]
  },
  {
   "cell_type": "code",
   "execution_count": 2,
   "metadata": {
    "collapsed": false
   },
   "outputs": [
    {
     "name": "stdout",
     "output_type": "stream",
     "text": [
      "3\n"
     ]
    }
   ],
   "source": [
    "# str.count function\n",
    "s = \"asdfdfsas\"\n",
    "print s.count(\"s\")"
   ]
  },
  {
   "cell_type": "code",
   "execution_count": 3,
   "metadata": {
    "collapsed": false
   },
   "outputs": [
    {
     "name": "stdout",
     "output_type": "stream",
     "text": [
      "record_num:18\n",
      "close ./data/dna2.fasta file successfully.\n"
     ]
    }
   ],
   "source": [
    "# count record in variable \"data\" according to the special symbol \">\"(each record has this symbol)\n",
    "record_num = data.count(\">\")\n",
    "print \"record_num:%s\" % record_num\n",
    "\n",
    "# close file\n",
    "try: \n",
    "    f.close()\n",
    "    print \"close %s file successfully.\" % dna2_fasta_file_directory\n",
    "except Exception as e:\n",
    "    print e"
   ]
  },
  {
   "cell_type": "markdown",
   "metadata": {},
   "source": [
    "##Question 2\n",
    "What is the length of the longest sequence in the file?  \n",
    "* 10457\n",
    "* 461\n",
    "* 4894\n",
    "* 2341"
   ]
  },
  {
   "cell_type": "code",
   "execution_count": 4,
   "metadata": {
    "collapsed": false
   },
   "outputs": [
    {
     "name": "stdout",
     "output_type": "stream",
     "text": [
      "open ./data/dna2.fasta file and load data successfully.\n"
     ]
    }
   ],
   "source": [
    "# open file and load data\n",
    "try:\n",
    "    f = open(dna2_fasta_file_directory, \"r\")\n",
    "    data_string_list = f.readlines()\n",
    "    print \"open %s file and load data successfully.\" % dna2_fasta_file_directory\n",
    "except Exception as e:\n",
    "    print e"
   ]
  },
  {
   "cell_type": "code",
   "execution_count": 5,
   "metadata": {
    "collapsed": false
   },
   "outputs": [
    {
     "name": "stdout",
     "output_type": "stream",
     "text": [
      "record num.:18\n",
      "len(record_meta_list):18\n"
     ]
    }
   ],
   "source": [
    "# generate each record string as a element in list from data_string_list\n",
    "record_list = []\n",
    "record_meta_list = []\n",
    "for string_idx in xrange(len(data_string_list)):\n",
    "    string = data_string_list[string_idx]\n",
    "    if string.count(\">\") == 1:\n",
    "        record_meta_list.append(string)\n",
    "        \n",
    "        if string_idx != 0:\n",
    "            record_list.append(cur_record)\n",
    "            \n",
    "        cur_record = \"\"\n",
    "        continue\n",
    "    else:\n",
    "        cur_record = cur_record + string\n",
    "        if string_idx == len(data_string_list) -  1:\n",
    "            record_list.append(cur_record)\n",
    "            \n",
    "print \"record num.:%s\" % len(record_list)\n",
    "print \"len(record_meta_list):%s\" % len(record_meta_list)"
   ]
  },
  {
   "cell_type": "code",
   "execution_count": 6,
   "metadata": {
    "collapsed": false
   },
   "outputs": [
    {
     "name": "stdout",
     "output_type": "stream",
     "text": [
      "sdfsdfs\n"
     ]
    }
   ],
   "source": [
    "# remove special symbols\n",
    "s = \"asadafsdaafs\"\n",
    "print s.replace(\"a\", \"\")"
   ]
  },
  {
   "cell_type": "code",
   "execution_count": 7,
   "metadata": {
    "collapsed": false
   },
   "outputs": [],
   "source": [
    "# remove the LINE BREAK character \"\\n\" in variable record_list(each element is a string)\n",
    "record_list = map(lambda record_string: record_string.replace(\"\\n\", \"\"), record_list)"
   ]
  },
  {
   "cell_type": "code",
   "execution_count": 8,
   "metadata": {
    "collapsed": false
   },
   "outputs": [
    {
     "name": "stdout",
     "output_type": "stream",
     "text": [
      "[1, 2, 3, 4]\n",
      "[-1, -2, -3, -4]\n",
      "[0, 0, 0, 0]\n"
     ]
    }
   ],
   "source": [
    "def add(s1, s2):\n",
    "    return s1+s2\n",
    "\n",
    "s1_list = range(1, 5, 1) # [1, 2, 3, 4]\n",
    "s2_list = range(-1, -5, -1)\n",
    "print s1_list\n",
    "print s2_list\n",
    "print map(add, s1_list, s2_list)"
   ]
  },
  {
   "cell_type": "code",
   "execution_count": 9,
   "metadata": {
    "collapsed": false
   },
   "outputs": [
    {
     "name": "stdout",
     "output_type": "stream",
     "text": [
      "len(record_len_list):18\n",
      "record_len_list:[4635, 1151, 4894, 3511, 4076, 2867, 442, 890, 967, 4338, 1352, 4564, 4804, 964, 2095, 1432, 115, 2646]\n",
      "max_len_record_length:4894\n",
      "each_record_len_list:[(1, 4635), (2, 1151), (3, 4894), (4, 3511), (5, 4076), (6, 2867), (7, 442), (8, 890), (9, 967), (10, 4338), (11, 1352), (12, 4564), (13, 4804), (14, 964), (15, 2095), (16, 1432), (17, 115), (18, 2646)]\n"
     ]
    }
   ],
   "source": [
    "record_len_list = map(lambda record_string: len(record_string), record_list)\n",
    "max_len_record_length = max(record_len_list)\n",
    "each_record_len_list = map(lambda idx, length: (idx, length), xrange(1, 19), record_len_list)\n",
    "\n",
    "print \"len(record_len_list):%s\" % len(record_len_list)\n",
    "print \"record_len_list:%s\" % record_len_list\n",
    "print \"max_len_record_length:%s\" % max_len_record_length\n",
    "print \"each_record_len_list:%s\" % each_record_len_list"
   ]
  },
  {
   "cell_type": "markdown",
   "metadata": {},
   "source": [
    "##Question 3\n",
    "What is the length of the shortest sequence in the file?  \n",
    "* 890\n",
    "* 964\n",
    "* 442\n",
    "* 115"
   ]
  },
  {
   "cell_type": "code",
   "execution_count": 10,
   "metadata": {
    "collapsed": false
   },
   "outputs": [
    {
     "name": "stdout",
     "output_type": "stream",
     "text": [
      "min_len_record_length:115\n"
     ]
    }
   ],
   "source": [
    "min_len_record_length = min(record_len_list)\n",
    "print \"min_len_record_length:%s\" % min_len_record_length"
   ]
  },
  {
   "cell_type": "markdown",
   "metadata": {},
   "source": [
    "##Question 4\n",
    "What is the length of the longest ORF appearing in reading frame 2 of any of the sequences?  \n",
    "* 1644\n",
    "* 1560\n",
    "* 1458\n",
    "* 1401"
   ]
  },
  {
   "cell_type": "code",
   "execution_count": 11,
   "metadata": {
    "collapsed": false
   },
   "outputs": [
    {
     "name": "stdout",
     "output_type": "stream",
     "text": [
      "-1\n"
     ]
    },
    {
     "ename": "ValueError",
     "evalue": "substring not found",
     "output_type": "error",
     "traceback": [
      "\u001b[1;31m---------------------------------------------------------------------------\u001b[0m",
      "\u001b[1;31mValueError\u001b[0m                                Traceback (most recent call last)",
      "\u001b[1;32m<ipython-input-11-55129b50642e>\u001b[0m in \u001b[0;36m<module>\u001b[1;34m()\u001b[0m\n\u001b[0;32m      1\u001b[0m \u001b[0ms\u001b[0m \u001b[1;33m=\u001b[0m \u001b[1;34m\"asdfa\"\u001b[0m\u001b[1;33m\u001b[0m\u001b[0m\n\u001b[0;32m      2\u001b[0m \u001b[1;32mprint\u001b[0m \u001b[0ms\u001b[0m\u001b[1;33m[\u001b[0m\u001b[1;36m3\u001b[0m\u001b[1;33m:\u001b[0m\u001b[1;33m]\u001b[0m\u001b[1;33m.\u001b[0m\u001b[0mfind\u001b[0m\u001b[1;33m(\u001b[0m\u001b[1;34m\"z\"\u001b[0m\u001b[1;33m)\u001b[0m\u001b[1;33m\u001b[0m\u001b[0m\n\u001b[1;32m----> 3\u001b[1;33m \u001b[1;32mprint\u001b[0m \u001b[0ms\u001b[0m\u001b[1;33m[\u001b[0m\u001b[1;36m3\u001b[0m\u001b[1;33m:\u001b[0m\u001b[1;33m]\u001b[0m\u001b[1;33m.\u001b[0m\u001b[0mindex\u001b[0m\u001b[1;33m(\u001b[0m\u001b[1;34m\"z\"\u001b[0m\u001b[1;33m)\u001b[0m\u001b[1;33m\u001b[0m\u001b[0m\n\u001b[0m",
      "\u001b[1;31mValueError\u001b[0m: substring not found"
     ]
    }
   ],
   "source": [
    "s = \"asdfa\"\n",
    "print s[3:].find(\"z\")\n",
    "print s[3:].index(\"z\")"
   ]
  },
  {
   "cell_type": "code",
   "execution_count": 12,
   "metadata": {
    "collapsed": false
   },
   "outputs": [
    {
     "name": "stdout",
     "output_type": "stream",
     "text": [
      "1\n",
      "2\n",
      "3\n"
     ]
    }
   ],
   "source": [
    "a = 0\n",
    "while 1:\n",
    "    a += 1\n",
    "    print a\n",
    "    if a == 3: break"
   ]
  },
  {
   "cell_type": "code",
   "execution_count": 13,
   "metadata": {
    "collapsed": true
   },
   "outputs": [],
   "source": [
    "def get_sequence_string_accroding_2_frame_num(sequence_string, frame_num):\n",
    "    # generate the sequence string corresponding to frame num.\n",
    "    if frame_num == 1:\n",
    "        pass\n",
    "    elif frame_num == 2:\n",
    "        sequence_string = sequence_string[1:]\n",
    "    elif frame_num == 3:\n",
    "        sequence_string = sequence_string[2:]\n",
    "    return sequence_string\n",
    "\n",
    "record_list_according_2_frame_2 = map(\n",
    "    lambda record: get_sequence_string_accroding_2_frame_num(\n",
    "        sequence_string = record,\n",
    "        frame_num = 6\n",
    "    ), record_list\n",
    ")"
   ]
  },
  {
   "cell_type": "code",
   "execution_count": 14,
   "metadata": {
    "collapsed": false
   },
   "outputs": [
    {
     "name": "stdout",
     "output_type": "stream",
     "text": [
      "[4635, 1151, 4894, 3511, 4076, 2867, 442, 890, 967, 4338, 1352, 4564, 4804, 964, 2095, 1432, 115, 2646]\n"
     ]
    }
   ],
   "source": [
    "def get_Ngram_list(sequence_string, gramN):\n",
    "    # generate Ngram list\n",
    "    # default gramN = 3, trigram\n",
    "    Ngram_num = len(sequence_string) / gramN\n",
    "    Ngram_list = map(\n",
    "        lambda start_index: sequence_string[start_index:start_index + gramN], xrange(Ngram_num)\n",
    "    )\n",
    "    return Ngram_list\n",
    "\n",
    "Ngram_2d_list = map(\n",
    "    lambda record: get_Ngram_list(\n",
    "        sequence_string = record,\n",
    "        gramN = 3\n",
    "    ), record_list_according_2_frame_2\n",
    ")\n",
    "print map(len, record_list_according_2_frame_2)"
   ]
  },
  {
   "cell_type": "code",
   "execution_count": 15,
   "metadata": {
    "collapsed": true
   },
   "outputs": [],
   "source": [
    "def find_length_of_longgest_ORF(Ngram_sequence_list):\n",
    "    def find_first_target_index_in_list(trigram_string_list, target_string):\n",
    "        target_index_in_list = -1\n",
    "        try: \n",
    "            target_index_in_list = Ngram_sequence_list.index(target_string)\n",
    "        except Exception as e:\n",
    "            return target_index_in_list\n",
    "        \n",
    "    \n",
    "    start_codon = \"ATG\"\n",
    "    end_codon_list = [\"TAA\", \"TAG\", \"TGA\"]\n",
    "    cur_ORF_list = []\n",
    "    cur_max_length = 0\n",
    "    cur_max_length_index = -1\n",
    "    cur_start_index = 0\n",
    "    cur_end_index = -1\n",
    "    while 1:\n",
    "        # find start inedx\n",
    "        try: \n",
    "            cur_start_index = Ngram_sequence_list[cur_start_index:].index(start_codon)\n",
    "        except Exception as e:\n",
    "            print e\n",
    "            return cur_max_length \n",
    "        \n",
    "        # find end index\n",
    "        end_index_list = map(\n",
    "            lambda end_codon: find_first_target_index_in_list(Ngram_sequence_list,\n",
    "                                                              end_codon), \n",
    "            end_codon_list\n",
    "        )\n",
    "        cur_end_index = min(end_index_list)\n",
    "        if cur_end_index == -1: return cur_max_length\n",
    "\n",
    "        # current ORF\n",
    "        cur_ORF_list = Ngram_sequence_list[cur_start_index: cur_end_index]\n",
    "        \n",
    "        # update cur_max_length variable\n",
    "        if cur_max_length <= len(Ngram_sequence_list[cur_start_index: cur_end_index]):\n",
    "            cur_max_length = len(Ngram_sequence_list[cur_start_index: cur_end_index])\n",
    "            cur_max_length_index = cur_start_index\n",
    "\n",
    "        # exchange end index to start index\n",
    "        cur_start_index = cur_end_index\n",
    "        cur_end_index = -1\n",
    "GG "
   ]
  },
  {
   "cell_type": "code",
   "execution_count": null,
   "metadata": {
    "collapsed": false
   },
   "outputs": [],
   "source": [
    "ORF_max_length_for_each_record_list = map(\n",
    "    lambda Ngram_sequence_list: find_length_of_longgest_ORF(Ngram_sequence_list),\n",
    "    Ngram_2d_list\n",
    ")\n",
    "print len(ORF_max_length_for_each_record_list)"
   ]
  },
  {
   "cell_type": "code",
   "execution_count": 30,
   "metadata": {
    "collapsed": false
   },
   "outputs": [
    {
     "name": "stdout",
     "output_type": "stream",
     "text": [
      "Help on class list in module __builtin__:\n",
      "\n",
      "class list(object)\n",
      " |  list() -> new empty list\n",
      " |  list(iterable) -> new list initialized from iterable's items\n",
      " |  \n",
      " |  Methods defined here:\n",
      " |  \n",
      " |  __add__(...)\n",
      " |      x.__add__(y) <==> x+y\n",
      " |  \n",
      " |  __contains__(...)\n",
      " |      x.__contains__(y) <==> y in x\n",
      " |  \n",
      " |  __delitem__(...)\n",
      " |      x.__delitem__(y) <==> del x[y]\n",
      " |  \n",
      " |  __delslice__(...)\n",
      " |      x.__delslice__(i, j) <==> del x[i:j]\n",
      " |      \n",
      " |      Use of negative indices is not supported.\n",
      " |  \n",
      " |  __eq__(...)\n",
      " |      x.__eq__(y) <==> x==y\n",
      " |  \n",
      " |  __ge__(...)\n",
      " |      x.__ge__(y) <==> x>=y\n",
      " |  \n",
      " |  __getattribute__(...)\n",
      " |      x.__getattribute__('name') <==> x.name\n",
      " |  \n",
      " |  __getitem__(...)\n",
      " |      x.__getitem__(y) <==> x[y]\n",
      " |  \n",
      " |  __getslice__(...)\n",
      " |      x.__getslice__(i, j) <==> x[i:j]\n",
      " |      \n",
      " |      Use of negative indices is not supported.\n",
      " |  \n",
      " |  __gt__(...)\n",
      " |      x.__gt__(y) <==> x>y\n",
      " |  \n",
      " |  __iadd__(...)\n",
      " |      x.__iadd__(y) <==> x+=y\n",
      " |  \n",
      " |  __imul__(...)\n",
      " |      x.__imul__(y) <==> x*=y\n",
      " |  \n",
      " |  __init__(...)\n",
      " |      x.__init__(...) initializes x; see help(type(x)) for signature\n",
      " |  \n",
      " |  __iter__(...)\n",
      " |      x.__iter__() <==> iter(x)\n",
      " |  \n",
      " |  __le__(...)\n",
      " |      x.__le__(y) <==> x<=y\n",
      " |  \n",
      " |  __len__(...)\n",
      " |      x.__len__() <==> len(x)\n",
      " |  \n",
      " |  __lt__(...)\n",
      " |      x.__lt__(y) <==> x<y\n",
      " |  \n",
      " |  __mul__(...)\n",
      " |      x.__mul__(n) <==> x*n\n",
      " |  \n",
      " |  __ne__(...)\n",
      " |      x.__ne__(y) <==> x!=y\n",
      " |  \n",
      " |  __repr__(...)\n",
      " |      x.__repr__() <==> repr(x)\n",
      " |  \n",
      " |  __reversed__(...)\n",
      " |      L.__reversed__() -- return a reverse iterator over the list\n",
      " |  \n",
      " |  __rmul__(...)\n",
      " |      x.__rmul__(n) <==> n*x\n",
      " |  \n",
      " |  __setitem__(...)\n",
      " |      x.__setitem__(i, y) <==> x[i]=y\n",
      " |  \n",
      " |  __setslice__(...)\n",
      " |      x.__setslice__(i, j, y) <==> x[i:j]=y\n",
      " |      \n",
      " |      Use  of negative indices is not supported.\n",
      " |  \n",
      " |  __sizeof__(...)\n",
      " |      L.__sizeof__() -- size of L in memory, in bytes\n",
      " |  \n",
      " |  append(...)\n",
      " |      L.append(object) -- append object to end\n",
      " |  \n",
      " |  count(...)\n",
      " |      L.count(value) -> integer -- return number of occurrences of value\n",
      " |  \n",
      " |  extend(...)\n",
      " |      L.extend(iterable) -- extend list by appending elements from the iterable\n",
      " |  \n",
      " |  index(...)\n",
      " |      L.index(value, [start, [stop]]) -> integer -- return first index of value.\n",
      " |      Raises ValueError if the value is not present.\n",
      " |  \n",
      " |  insert(...)\n",
      " |      L.insert(index, object) -- insert object before index\n",
      " |  \n",
      " |  pop(...)\n",
      " |      L.pop([index]) -> item -- remove and return item at index (default last).\n",
      " |      Raises IndexError if list is empty or index is out of range.\n",
      " |  \n",
      " |  remove(...)\n",
      " |      L.remove(value) -- remove first occurrence of value.\n",
      " |      Raises ValueError if the value is not present.\n",
      " |  \n",
      " |  reverse(...)\n",
      " |      L.reverse() -- reverse *IN PLACE*\n",
      " |  \n",
      " |  sort(...)\n",
      " |      L.sort(cmp=None, key=None, reverse=False) -- stable sort *IN PLACE*;\n",
      " |      cmp(x, y) -> -1, 0, 1\n",
      " |  \n",
      " |  ----------------------------------------------------------------------\n",
      " |  Data and other attributes defined here:\n",
      " |  \n",
      " |  __hash__ = None\n",
      " |  \n",
      " |  __new__ = <built-in method __new__ of type object>\n",
      " |      T.__new__(S, ...) -> a new object with type S, a subtype of T\n",
      "\n"
     ]
    }
   ],
   "source": [
    "help(list)"
   ]
  },
  {
   "cell_type": "markdown",
   "metadata": {},
   "source": [
    "##Question 5\n",
    "What is the starting position of the longest ORF in reading frame 3 in any of the sequences? The position should indicate the character number where the ORF begins. For instance, the following ORF:  \n",
    "> sequence1  \n",
    "ATGCCCTAG  \n",
    "starts at position 1.  \n",
    "\n",
    "* 758\n",
    "* 2338\n",
    "* 636\n",
    "* 832"
   ]
  },
  {
   "cell_type": "code",
   "execution_count": 16,
   "metadata": {
    "collapsed": true
   },
   "outputs": [],
   "source": [
    "def get_sequence_string_accroding_2_frame_num(sequence_string, frame_num):\n",
    "    # generate the sequence string corresponding to frame num.\n",
    "    if frame_num == 1:\n",
    "        pass\n",
    "    elif frame_num == 2:\n",
    "        sequence_string = sequence_string[1:]\n",
    "    elif frame_num == 3:\n",
    "        sequence_string = sequence_string[2:]\n",
    "    return sequence_string\n",
    "\n",
    "record_list_according_2_frame3 = map(\n",
    "    lambda sequence_string: get_sequence_string_accroding_2_frame_num(\n",
    "        sequence_string,\n",
    "        frame_num = 3\n",
    "    ), record_list\n",
    ")"
   ]
  },
  {
   "cell_type": "code",
   "execution_count": 17,
   "metadata": {
    "collapsed": false
   },
   "outputs": [
    {
     "name": "stdout",
     "output_type": "stream",
     "text": [
      "[4633, 1149, 4892, 3509, 4074, 2865, 440, 888, 965, 4336, 1350, 4562, 4802, 962, 2093, 1430, 113, 2644]\n"
     ]
    }
   ],
   "source": [
    "def get_Ngram_list(sequence_string, gramN):\n",
    "    # generate Ngram list\n",
    "    # default gramN = 3, trigram\n",
    "    Ngram_num = len(sequence_string) / gramN\n",
    "    Ngram_list = map(\n",
    "        lambda start_index: sequence_string[start_index:start_index + gramN], xrange(Ngram_num)\n",
    "    )\n",
    "    return Ngram_list\n",
    "\n",
    "Ngram_2d_list = map(\n",
    "    lambda record: get_Ngram_list(\n",
    "        sequence_string = record,\n",
    "        gramN = 3\n",
    "    ), record_list_according_2_frame3\n",
    ")\n",
    "print map(len, record_list_according_2_frame3)"
   ]
  },
  {
   "cell_type": "markdown",
   "metadata": {},
   "source": [
    "##Question 6\n",
    "What is the length of the longest ORF appearing in any sequence and in any forward reading frame?  \n",
    "* 1719\n",
    "* 294\n",
    "* 2307\n",
    "* 1560"
   ]
  },
  {
   "cell_type": "markdown",
   "metadata": {},
   "source": [
    "##Question 7\n",
    "What is the length of the longest forward ORF that appears in the sequence with the identifier gi|142022655|gb|EQ086233.1|16?  \n",
    "* 1509\n",
    "* 1458\n",
    "* 1644\n",
    "* 1317"
   ]
  },
  {
   "cell_type": "markdown",
   "metadata": {},
   "source": [
    "##Question 8\n",
    "Find the most frequently occurring repeat of length 6 in all sequences. How many times does it occur in all?  \n",
    "* 71\n",
    "* 194\n",
    "* 219\n",
    "* 153"
   ]
  },
  {
   "cell_type": "code",
   "execution_count": null,
   "metadata": {
    "collapsed": true
   },
   "outputs": [],
   "source": [
    "def generate_len_six_string_list(string):\n",
    "    segment_length = 6\n",
    "    len_six_string_list = []\n",
    "    for idx in xrange(len(string) - segment_length):\n",
    "        len_six_string_list.append(string[idx:idx + segment_length])\n",
    "    return len_six_string_list"
   ]
  },
  {
   "cell_type": "code",
   "execution_count": null,
   "metadata": {
    "collapsed": false
   },
   "outputs": [],
   "source": [
    "# flatten 2-Dimension list variable\n",
    "from compiler.ast import flatten\n",
    "li = [[1, 2], [3], [4, 5, 2]]\n",
    "print \"li:%s\" % li\n",
    "print \"flatten(li):%s\" % flatten(li)"
   ]
  },
  {
   "cell_type": "code",
   "execution_count": null,
   "metadata": {
    "collapsed": false
   },
   "outputs": [],
   "source": [
    "# generate any all 6 length strings for each record from variable \"record_list\"\n",
    "length6_2d_list = map(generate_len_six_string_list, record_list)\n",
    "length6_list = flatten(length6_2d_list)\n",
    "print \"len(length6_list):%s\" % len(length6_list)\n",
    "length6_set = set(length6_list)\n",
    "print \"len(length6_set):%s\" % len(length6_set)"
   ]
  },
  {
   "cell_type": "code",
   "execution_count": null,
   "metadata": {
    "collapsed": true
   },
   "outputs": [],
   "source": [
    "# statistic about most frequency string of length 6\n",
    "length6_dict = dict()\n",
    "for cur_length6_string in length6_set:\n",
    "    cur_length6_string_exist_list = map(lambda length6_string_in_length6_list: length6_string_in_length6_list.count(cur_length6_string), length6_list)\n",
    "    cur_length6_string_frequency = sum(cur_length6_string_exist_list)\n",
    "    length6_dict[cur_length6_string] = cur_length6_string_frequency"
   ]
  },
  {
   "cell_type": "code",
   "execution_count": null,
   "metadata": {
    "collapsed": false
   },
   "outputs": [],
   "source": [
    "most_frequency_length6_value = max(length6_dict.values())\n",
    "print \"most_frequency_length6_value:%s\" % most_frequency_length6_value"
   ]
  },
  {
   "cell_type": "markdown",
   "metadata": {},
   "source": [
    "##Question 9\n",
    "Find all repeats of length 12 in the input file. Let's use Max to specify the number of copies of the most frequent repeat of length 12. How many different 12-base sequences occur Max times?  \n",
    "* 7\n",
    "* 4\n",
    "* 1\n",
    "* 10"
   ]
  },
  {
   "cell_type": "code",
   "execution_count": null,
   "metadata": {
    "collapsed": true
   },
   "outputs": [],
   "source": [
    "def generate_user_defined_length_string_list(string, segment_length):\n",
    "    len_six_string_list = []\n",
    "    for idx in xrange(len(string) - segment_length):\n",
    "        len_six_string_list.append(string[idx:idx + segment_length])\n",
    "    return len_six_string_list"
   ]
  },
  {
   "cell_type": "code",
   "execution_count": null,
   "metadata": {
    "collapsed": false
   },
   "outputs": [],
   "source": [
    "segment_length = 12\n",
    "# generate any all 12 length strings for each record from variable \"record_list\"\n",
    "length12_2d_list = map(\n",
    "    lambda string: generate_user_defined_length_string_list(string, segment_length), record_list)\n",
    "length12_list = flatten(length12_2d_list)\n",
    "print \"len(length12_list):%s\" % len(length12_list)\n",
    "length12_set = set(length12_list)\n",
    "print \"len(length12_set):%s\" % len(length12_set)\n",
    "\n",
    "length12_and_length_tuple_list = map(lambda length12: (length12, len(length12)), length12_set)\n",
    "sorted_length12_and_length_tuple_list = sorted(length12_and_length_tuple_list, key = lambda tup: tup[1])\n",
    "most_frequency_length12_and_length_tuple = sorted_length12_and_length_tuple_list[0]\n",
    "print \"most_frequency_length12_and_length_tuple:%s\" % str(most_frequency_length12_and_length_tuple)\n",
    "print \"most_frequency_length12_and_length_tuple[0:2]:%s\" % str(most_frequency_length12_and_length_tuple[0:2])\n",
    "\n",
    "most_frequency_length12 = most_frequency_length12_and_length_tuple[0]\n",
    "print \"most_frequency_length12:%s\" % most_frequency_length12\n",
    "\n",
    "most_frequency_lenght12_count_in_each_record_list = map(\n",
    "    lambda record: record.count(most_frequency_length12), record_list)\n",
    "print \"most_frequency_lenght12_count_in_each_record_list:%s\" % most_frequency_lenght12_count_in_each_record_list\n",
    "\n",
    "most_frequency_length12_count_sum = sum(most_frequency_lenght12_count_in_each_record_list)\n",
    "print \"most_frequency_length12_count_sum:%s\" % most_frequency_length12_count_sum"
   ]
  },
  {
   "cell_type": "markdown",
   "metadata": {},
   "source": [
    "##Question 10\n",
    "Which one of the following repeats of length 7 has a maximum number of occurrences?  \n",
    "* CATCGCC\n",
    "* GCGCGCA\n",
    "* TGCGCGC\n",
    "* CGCGCCG"
   ]
  },
  {
   "cell_type": "code",
   "execution_count": null,
   "metadata": {
    "collapsed": false
   },
   "outputs": [],
   "source": [
    "# CATCGCC\n",
    "pattern_string = \"CATCGCC\"\n",
    "pattern_count_list = map(lambda record_string: record_string.count(pattern_string), record_list)\n",
    "print \"pattern_count_list:%s\" % pattern_count_list\n",
    "print \"sum(pattern_count_list):%s\" % sum(pattern_count_list)"
   ]
  },
  {
   "cell_type": "code",
   "execution_count": null,
   "metadata": {
    "collapsed": false
   },
   "outputs": [],
   "source": [
    "# GCGCGCA\n",
    "pattern_string = \"GCGCGCA\"\n",
    "pattern_count_list = map(lambda record_string: record_string.count(pattern_string), record_list)\n",
    "print \"pattern_count_list:%s\" % pattern_count_list\n",
    "print \"sum(pattern_count_list):%s\" % sum(pattern_count_list)"
   ]
  },
  {
   "cell_type": "code",
   "execution_count": null,
   "metadata": {
    "collapsed": false,
    "scrolled": false
   },
   "outputs": [],
   "source": [
    "# TGCGCGC\n",
    "pattern_string = \"TGCGCGC\"\n",
    "pattern_count_list = map(lambda record_string: record_string.count(pattern_string), record_list)\n",
    "print \"pattern_count_list:%s\" % pattern_count_list\n",
    "print \"sum(pattern_count_list):%s\" % sum(pattern_count_list)"
   ]
  },
  {
   "cell_type": "code",
   "execution_count": null,
   "metadata": {
    "collapsed": false
   },
   "outputs": [],
   "source": [
    "# CGCGCCG\n",
    "pattern_string = \"CGCGCCG\"\n",
    "pattern_count_list = map(lambda record_string: record_string.count(pattern_string), record_list)\n",
    "print \"pattern_count_list:%s\" % pattern_count_list\n",
    "print \"sum(pattern_count_list):%s\" % sum(pattern_count_list)"
   ]
  }
 ],
 "metadata": {
  "kernelspec": {
   "display_name": "Python 2",
   "language": "python",
   "name": "python2"
  },
  "language_info": {
   "codemirror_mode": {
    "name": "ipython",
    "version": 2
   },
   "file_extension": ".py",
   "mimetype": "text/x-python",
   "name": "python",
   "nbconvert_exporter": "python",
   "pygments_lexer": "ipython2",
   "version": "2.7.6"
  }
 },
 "nbformat": 4,
 "nbformat_minor": 0
}
