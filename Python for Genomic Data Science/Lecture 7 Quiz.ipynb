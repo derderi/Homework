{
 "cells": [
  {
   "cell_type": "markdown",
   "metadata": {},
   "source": [
    "# Lecture 7 Quiz"
   ]
  },
  {
   "cell_type": "markdown",
   "metadata": {},
   "source": [
    "##Question 1\n",
    "A student wants to write into a file called myfile, without deleting its existing content. Which one of the following functions should he or she use?\n",
    "* f = open('myfile', 'w')\n",
    "* f = open('myfile', 'a')\n",
    "* f = open('myfile', 'r')\n",
    "* f = open('myfile', 'w+b')"
   ]
  },
  {
   "cell_type": "raw",
   "metadata": {},
   "source": [
    "'a': appendix"
   ]
  },
  {
   "cell_type": "markdown",
   "metadata": {},
   "source": [
    "##Question 2\n",
    "Which of the following statements are true?  \n",
    "  A) When you open a file for reading, if the file does not exist, an error occurs.  \n",
    "  B) When you open a file for writing, if the file does not exist, a new file is created.  \n",
    "  C) When you open a file for reading, if the file does not exist, the program will open an empty file.  \n",
    "  D) When you open a file for writing, if the file exists, the existing file is overwritten with the new file.  \n",
    "  E) When you open a file for writing, if the file does not exist, an error occurs.  \n",
    "* A, and E\n",
    "* A, B, and D only\n",
    "* D only\n",
    "* A and B only"
   ]
  },
  {
   "cell_type": "code",
   "execution_count": 4,
   "metadata": {
    "collapsed": false
   },
   "outputs": [
    {
     "ename": "IOError",
     "evalue": "[Errno 2] No such file or directory: 'b.py'",
     "output_type": "error",
     "traceback": [
      "\u001b[1;31m---------------------------------------------------------------------------\u001b[0m",
      "\u001b[1;31mIOError\u001b[0m                                   Traceback (most recent call last)",
      "\u001b[1;32m<ipython-input-4-684c8cc425c3>\u001b[0m in \u001b[0;36m<module>\u001b[1;34m()\u001b[0m\n\u001b[1;32m----> 1\u001b[1;33m \u001b[0mf\u001b[0m \u001b[1;33m=\u001b[0m \u001b[0mopen\u001b[0m\u001b[1;33m(\u001b[0m\u001b[1;34m'b.py'\u001b[0m\u001b[1;33m,\u001b[0m \u001b[1;34m'r'\u001b[0m\u001b[1;33m)\u001b[0m\u001b[1;33m\u001b[0m\u001b[0m\n\u001b[0m",
      "\u001b[1;31mIOError\u001b[0m: [Errno 2] No such file or directory: 'b.py'"
     ]
    }
   ],
   "source": [
    "f = open('b.py', 'r')"
   ]
  },
  {
   "cell_type": "markdown",
   "metadata": {},
   "source": [
    "True statments:  \n",
    "A) When you open a file for reading, if the file does not exist, an error occurs.  \n",
    "B) When you open a file for writing, if the file does not exist, a new file is created.  \n",
    "D) When you open a file for writing, if the file exists, the existing file is overwritten with the new file."
   ]
  },
  {
   "cell_type": "markdown",
   "metadata": {},
   "source": [
    "##Question 3\n",
    "Examine the following three functions that take as argument a file name and return the extension of that file. For instance, if the file name is 'myfile.tar.gz' the returned value of the function should be 'gz'. If the file name has no extention, i.e. when the file name is just 'myfile', the function should return an empty string.  \n",
    "```\n",
    "def get_extension1(filename):\n",
    "    return(filename.split(\".\")[-1])\n",
    "\n",
    "\n",
    "def get_extension2(filename):\n",
    "    import os.path\n",
    "    return(os.path.splitext(filename)[1])\n",
    "\n",
    "\n",
    "def get_extension3(filename):\n",
    "    return filename[filename.rfind('.'):][1:]\n",
    "```\n",
    "Which of the these functions are doing exactly what they are supposed to do according to the description above?\n",
    "* get_extension3 only\n",
    "* get_extension1 only\n",
    "* get_extension1 and get_extension2\n",
    "*  All of them."
   ]
  },
  {
   "cell_type": "code",
   "execution_count": 7,
   "metadata": {
    "collapsed": true
   },
   "outputs": [],
   "source": [
    "def get_extension1(filename):\n",
    "    return(filename.split(\".\")[-1])\n",
    "\n",
    "\n",
    "def get_extension2(filename):\n",
    "    import os.path\n",
    "    return(os.path.splitext(filename)[1])\n",
    "\n",
    "\n",
    "def get_extension3(filename):\n",
    "    return filename[filename.rfind('.'):][1:]"
   ]
  },
  {
   "cell_type": "code",
   "execution_count": 9,
   "metadata": {
    "collapsed": false
   },
   "outputs": [
    {
     "name": "stdout",
     "output_type": "stream",
     "text": [
      "get_extension1\n",
      "get_extension1('filename'):filename\n",
      "get_extension1('filename.py'):py\n",
      "\n",
      "get_extension2\n",
      "get_extension2('filename'):\n",
      "get_extension2('filename.py'):.py\n",
      "\n",
      "get_extension3\n",
      "get_extension3('filename'):\n",
      "get_extension3('filename.py'):py\n"
     ]
    }
   ],
   "source": [
    "print \"get_extension1\"\n",
    "print \"get_extension1('filename'):%s\" % get_extension1('filename')\n",
    "print \"get_extension1('filename.py'):%s\" % get_extension1('filename.py')\n",
    "print\n",
    "\n",
    "print \"get_extension2\"\n",
    "print \"get_extension2('filename'):%s\" % get_extension2('filename')\n",
    "print \"get_extension2('filename.py'):%s\" % get_extension2('filename.py')\n",
    "print \n",
    "\n",
    "print \"get_extension3\"\n",
    "print \"get_extension3('filename'):%s\" % get_extension3('filename')\n",
    "print \"get_extension3('filename.py'):%s\" % get_extension3('filename.py')"
   ]
  },
  {
   "cell_type": "markdown",
   "metadata": {},
   "source": [
    "##Question 4\n",
    "A student is running a Python program like this:  \n",
    "```>python mergefasta.py myfile1.fa myfile2.fa```  \n",
    "In the mergefasta.py program the following lines are present:  \n",
    "```\n",
    "import sys\n",
    "tocheck=sys.argv[1]\n",
    "```\n",
    "What is the value of the variable tocheck?\n",
    "* 'myfile1.fa'\n",
    "* mergefasta.py\n",
    "* 'mergefasta.py'\n",
    "* python"
   ]
  },
  {
   "cell_type": "markdown",
   "metadata": {},
   "source": [
    "1. a.py\n",
    "```\n",
    "# -*- coding: utf-8 -*-\n",
    "# !/usr/bin/python\n",
    "import sys\n",
    "tocheck=sys.argv[1]\n",
    "print \"sys.argv[0]:\", sys.argv[0]\n",
    "print \"sys.argv[1]:\", sys.argv[1]\n",
    "print \"sys.argv[2]:\", sys.argv[2]\n",
    "```\n",
    "2. b.py\n",
    "```\n",
    "# -*- coding: utf-8 -*-\n",
    "# !/usr/bin/python\n",
    "print 'b'\n",
    "```\n",
    "3. c.py\n",
    "```\n",
    "# -*- coding: utf-8 -*-\n",
    "# !/usr/bin/python\n",
    "print 'c'\n",
    "```\n",
    "After I run `python a.py b.py c.py`, it shows below:\n",
    "```\n",
    "sys.argv[0]: a.py\n",
    "sys.argv[1]: b.py\n",
    "sys.argv[2]: c.py\n",
    "```"
   ]
  },
  {
   "cell_type": "markdown",
   "metadata": {},
   "source": [
    "##Question 5\n",
    "A student launches the Python interpreter from his home directory. His home directory contains another directory called 'mydir'. What will happen when he write the following code at the Python prompt:\n",
    "```\n",
    ">>> import os\n",
    ">>> filenames = os.listdir('mydir')\n",
    ">>> f= open(filenames[0])\n",
    "```\n",
    "* An error will be produced stating that the file to be opened does not exist.\n",
    "* A variable f representing a file object will be created, and the first file in the directory 'mydir' will be opened for reading in text mode.\n",
    "* A variable f representing a file object will be created, and the first file in the directory 'mydir' will be opened.\n",
    "* An error will be produced stating that filename is not subscriptable."
   ]
  },
  {
   "cell_type": "code",
   "execution_count": null,
   "metadata": {
    "collapsed": true
   },
   "outputs": [],
   "source": []
  }
 ],
 "metadata": {
  "kernelspec": {
   "display_name": "Python 2",
   "language": "python",
   "name": "python2"
  },
  "language_info": {
   "codemirror_mode": {
    "name": "ipython",
    "version": 2
   },
   "file_extension": ".py",
   "mimetype": "text/x-python",
   "name": "python",
   "nbconvert_exporter": "python",
   "pygments_lexer": "ipython2",
   "version": "2.7.6"
  }
 },
 "nbformat": 4,
 "nbformat_minor": 0
}
